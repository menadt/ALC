{
 "cells": [
  {
   "cell_type": "markdown",
   "id": "d34cdd47",
   "metadata": {
    "id": "d34cdd47"
   },
   "source": [
    "# ALC - Capítulo 1\n",
    "## Nociones básicas de álgebra lineal"
   ]
  },
  {
   "cell_type": "markdown",
   "id": "4fddbfaa",
   "metadata": {
    "id": "4fddbfaa"
   },
   "source": [
    "## Clase 1"
   ]
  },
  {
   "cell_type": "code",
   "execution_count": 1,
   "id": "d3f9ddc6",
   "metadata": {
    "id": "d3f9ddc6",
    "ExecuteTime": {
     "end_time": "2023-08-27T23:29:36.975487500Z",
     "start_time": "2023-08-27T23:29:35.101669400Z"
    }
   },
   "outputs": [],
   "source": [
    "import numpy as np"
   ]
  },
  {
   "cell_type": "code",
   "execution_count": 2,
   "id": "87f1dc84",
   "metadata": {
    "id": "87f1dc84",
    "ExecuteTime": {
     "end_time": "2023-08-27T23:29:41.746363900Z",
     "start_time": "2023-08-27T23:29:41.734365400Z"
    }
   },
   "outputs": [
    {
     "name": "stdout",
     "output_type": "stream",
     "text": [
      "[10.  5. -7.  1.]\n"
     ]
    }
   ],
   "source": [
    "v1 = np.array([10., 5., -7, 1])\n",
    "print(v1)"
   ]
  },
  {
   "cell_type": "code",
   "execution_count": 3,
   "id": "7df7c397",
   "metadata": {
    "id": "7df7c397",
    "ExecuteTime": {
     "end_time": "2023-08-27T23:29:46.326098Z",
     "start_time": "2023-08-27T23:29:46.299687400Z"
    }
   },
   "outputs": [
    {
     "name": "stdout",
     "output_type": "stream",
     "text": [
      "[5.  0.  1.5 2. ]\n"
     ]
    }
   ],
   "source": [
    "v2 = np.array([5, 0, 3/2, 2])\n",
    "print(v2)"
   ]
  },
  {
   "cell_type": "code",
   "execution_count": 4,
   "id": "0f0e4e1d",
   "metadata": {
    "id": "0f0e4e1d",
    "ExecuteTime": {
     "end_time": "2023-08-27T23:29:50.763237Z",
     "start_time": "2023-08-27T23:29:50.722766Z"
    }
   },
   "outputs": [
    {
     "data": {
      "text/plain": "array([15. ,  5. , -5.5,  3. ])"
     },
     "execution_count": 4,
     "metadata": {},
     "output_type": "execute_result"
    }
   ],
   "source": [
    "v1 + v2"
   ]
  },
  {
   "cell_type": "code",
   "execution_count": 5,
   "id": "9b8833ec",
   "metadata": {
    "id": "9b8833ec",
    "ExecuteTime": {
     "end_time": "2023-08-27T23:29:58.631924Z",
     "start_time": "2023-08-27T23:29:58.610181600Z"
    }
   },
   "outputs": [
    {
     "data": {
      "text/plain": "array([ 30.,  15., -21.,   3.])"
     },
     "execution_count": 5,
     "metadata": {},
     "output_type": "execute_result"
    }
   ],
   "source": [
    "v1 * 3"
   ]
  },
  {
   "cell_type": "code",
   "execution_count": 6,
   "id": "dab7b919",
   "metadata": {
    "id": "dab7b919",
    "ExecuteTime": {
     "end_time": "2023-08-27T23:30:02.262837100Z",
     "start_time": "2023-08-27T23:30:02.243839700Z"
    }
   },
   "outputs": [
    {
     "data": {
      "text/plain": "8"
     },
     "execution_count": 6,
     "metadata": {},
     "output_type": "execute_result"
    }
   ],
   "source": [
    "2**3"
   ]
  },
  {
   "cell_type": "code",
   "execution_count": 7,
   "id": "4041bc8d",
   "metadata": {
    "id": "4041bc8d",
    "ExecuteTime": {
     "end_time": "2023-08-27T23:30:05.375575100Z",
     "start_time": "2023-08-27T23:30:05.350693500Z"
    }
   },
   "outputs": [
    {
     "data": {
      "text/plain": "175.0"
     },
     "execution_count": 7,
     "metadata": {},
     "output_type": "execute_result"
    }
   ],
   "source": [
    "# ** es el simbolo de potencia\n",
    "sum(v1**2)"
   ]
  },
  {
   "cell_type": "code",
   "execution_count": 8,
   "id": "4c8e1fcb",
   "metadata": {
    "id": "4c8e1fcb",
    "ExecuteTime": {
     "end_time": "2023-08-27T23:30:11.736512900Z",
     "start_time": "2023-08-27T23:30:11.691681500Z"
    }
   },
   "outputs": [
    {
     "data": {
      "text/plain": "array([11.,  6., -6.,  2.])"
     },
     "execution_count": 8,
     "metadata": {},
     "output_type": "execute_result"
    }
   ],
   "source": [
    "v1 + 1"
   ]
  },
  {
   "cell_type": "markdown",
   "id": "a4f0dd59",
   "metadata": {
    "id": "a4f0dd59"
   },
   "source": [
    "### Matrices"
   ]
  },
  {
   "cell_type": "code",
   "execution_count": 9,
   "id": "9a147a36",
   "metadata": {
    "id": "9a147a36",
    "ExecuteTime": {
     "end_time": "2023-08-27T23:30:18.139352700Z",
     "start_time": "2023-08-27T23:30:18.129777100Z"
    }
   },
   "outputs": [
    {
     "name": "stdout",
     "output_type": "stream",
     "text": [
      "A = \n",
      " [[2 2]\n",
      " [3 4]]\n",
      "B = \n",
      " [[ 1  2  3  4]\n",
      " [ 7  1  2 -1]]\n",
      "C = \n",
      " [[1.        ]\n",
      " [7.        ]\n",
      " [0.33333333]]\n"
     ]
    }
   ],
   "source": [
    "A = np.array([[2,2],[3,4]]) # Matriz de 2 x 2\n",
    "print(\"A = \\n\", A)\n",
    "\n",
    "B = np.array([[1,2,3,4],[7,1,2,-1]]) # Matriz de 2 x 4\n",
    "print(\"B = \\n\", B)\n",
    "\n",
    "C = np.array([[1], [7], [1/3]]) # Matriz columna de 3 x 1\n",
    "print(\"C = \\n\", C)"
   ]
  },
  {
   "cell_type": "code",
   "execution_count": 10,
   "id": "148d6fed",
   "metadata": {
    "id": "148d6fed",
    "ExecuteTime": {
     "end_time": "2023-08-27T23:30:30.901109600Z",
     "start_time": "2023-08-27T23:30:30.876115300Z"
    }
   },
   "outputs": [
    {
     "data": {
      "text/plain": "array([[4, 4],\n       [6, 8]])"
     },
     "execution_count": 10,
     "metadata": {},
     "output_type": "execute_result"
    }
   ],
   "source": [
    "# multiplicar una matriz por un escalar\n",
    "A * 2"
   ]
  },
  {
   "cell_type": "code",
   "execution_count": 11,
   "id": "8f3ad1c0",
   "metadata": {
    "id": "8f3ad1c0"
   },
   "outputs": [
    {
     "data": {
      "text/plain": "array([[   1048576,    1048576],\n       [-808182895,          0]], dtype=int32)"
     },
     "execution_count": 11,
     "metadata": {},
     "output_type": "execute_result"
    }
   ],
   "source": [
    "# elevar los elementos de una matriz a una potencia\n",
    "A**20"
   ]
  },
  {
   "cell_type": "markdown",
   "id": "e3ab12aa",
   "metadata": {
    "id": "e3ab12aa"
   },
   "source": [
    "### row_echelon\n",
    "(programita para escalonar matrices)"
   ]
  },
  {
   "cell_type": "code",
   "execution_count": 12,
   "id": "b7fd1e14",
   "metadata": {
    "id": "b7fd1e14",
    "ExecuteTime": {
     "end_time": "2023-08-27T23:30:39.732856800Z",
     "start_time": "2023-08-27T23:30:39.698150100Z"
    }
   },
   "outputs": [],
   "source": [
    "import numpy as np\n",
    "\n",
    "def row_echelon(M):\n",
    "    \"\"\" Return Row Echelon Form of matrix A \"\"\"\n",
    "    A = np.copy(M)\n",
    "    if (issubclass(A.dtype.type, np.integer)):\n",
    "        A = A.astype(float)\n",
    "    #A = M.astype(float)\n",
    "    # if matrix A has no columns or rows,\n",
    "    # it is already in REF, so we return itself\n",
    "    r, c = A.shape\n",
    "    if r == 0 or c == 0:\n",
    "        return A\n",
    "\n",
    "    # we search for non-zero element in the first column\n",
    "    for i in range(len(A)):\n",
    "        if A[i,0] != 0:\n",
    "            break\n",
    "    else:\n",
    "        # if all elements in the first column is zero,\n",
    "        # we perform REF on matrix from second column\n",
    "        B = row_echelon(A[:,1:])\n",
    "        # and then add the first zero-column back\n",
    "        return np.hstack([A[:,:1], B])\n",
    "\n",
    "    # if non-zero element happens not in the first row,\n",
    "    # we switch rows\n",
    "    if i > 0:\n",
    "        ith_row = A[i].copy()\n",
    "        A[i] = A[0]\n",
    "        A[0] = ith_row\n",
    "\n",
    "    # we divide first row by first element in it\n",
    "    A[0] = A[0] / A[0,0]\n",
    "    # we subtract all subsequent rows with first row (it has 1 now as first element)\n",
    "    # multiplied by the corresponding element in the first column\n",
    "    A[1:] -= A[0] * A[1:,0:1]\n",
    "\n",
    "    # we perform REF on matrix from second row, from second column\n",
    "    B = row_echelon(A[1:,1:])\n",
    "\n",
    "    # we add first row and first (zero) column, and return\n",
    "    return np.vstack([A[:1], np.hstack([A[1:,:1], B]) ])"
   ]
  },
  {
   "cell_type": "code",
   "execution_count": 13,
   "id": "7b2fc479",
   "metadata": {
    "id": "7b2fc479",
    "ExecuteTime": {
     "end_time": "2023-08-27T23:30:45.060069200Z",
     "start_time": "2023-08-27T23:30:45.038872600Z"
    }
   },
   "outputs": [
    {
     "name": "stdout",
     "output_type": "stream",
     "text": [
      "[[ 1  2  3  4]\n",
      " [ 5  6  7  8]\n",
      " [ 9 10 11 12]]\n"
     ]
    }
   ],
   "source": [
    "A = np.array([[1,2,3,4],[5,6,7,8],[9,10,11,12]])\n",
    "print(A)"
   ]
  },
  {
   "cell_type": "code",
   "execution_count": 14,
   "id": "557d4011",
   "metadata": {
    "id": "557d4011",
    "ExecuteTime": {
     "end_time": "2023-08-27T23:30:47.756796Z",
     "start_time": "2023-08-27T23:30:47.749798Z"
    }
   },
   "outputs": [
    {
     "name": "stdout",
     "output_type": "stream",
     "text": [
      "[[1. 2. 3. 4.]\n",
      " [0. 1. 2. 3.]\n",
      " [0. 0. 0. 0.]]\n"
     ]
    }
   ],
   "source": [
    "print(row_echelon(A))"
   ]
  },
  {
   "cell_type": "code",
   "execution_count": 15,
   "id": "9576b032",
   "metadata": {
    "id": "9576b032",
    "ExecuteTime": {
     "end_time": "2023-08-27T23:30:51.707749800Z",
     "start_time": "2023-08-27T23:30:51.690760200Z"
    }
   },
   "outputs": [
    {
     "name": "stdout",
     "output_type": "stream",
     "text": [
      "[[ 1  2  3  4]\n",
      " [ 1  2  3  4]\n",
      " [ 5  6  7  8]\n",
      " [ 9 10 11 12]]\n"
     ]
    }
   ],
   "source": [
    "# OJO... puede hacer algunas operaciones de cambios de fila!\n",
    "A = np.array([[1,2,3,4], [1,2,3,4],[5,6,7,8],[9,10,11,12]])\n",
    "print(A)"
   ]
  },
  {
   "cell_type": "code",
   "execution_count": 16,
   "id": "9c6e67c1",
   "metadata": {
    "id": "9c6e67c1",
    "ExecuteTime": {
     "end_time": "2023-08-27T23:30:55.989751500Z",
     "start_time": "2023-08-27T23:30:55.983755200Z"
    }
   },
   "outputs": [
    {
     "name": "stdout",
     "output_type": "stream",
     "text": [
      "[[1. 2. 3. 4.]\n",
      " [0. 1. 2. 3.]\n",
      " [0. 0. 0. 0.]\n",
      " [0. 0. 0. 0.]]\n"
     ]
    }
   ],
   "source": [
    "print(row_echelon(A))"
   ]
  },
  {
   "cell_type": "code",
   "execution_count": 17,
   "id": "366367f0",
   "metadata": {
    "id": "366367f0",
    "ExecuteTime": {
     "end_time": "2023-08-27T23:34:24.759306500Z",
     "start_time": "2023-08-27T23:34:24.748591100Z"
    }
   },
   "outputs": [
    {
     "name": "stdout",
     "output_type": "stream",
     "text": [
      "[[1.  0.6 2.2]\n",
      " [0.  0.  0. ]\n",
      " [0.  0.  0. ]]\n"
     ]
    }
   ],
   "source": [
    "A = np.array([[5,3,11],[15,9,33],[20,12,44]])\n",
    "print(row_echelon(A))"
   ]
  },
  {
   "cell_type": "code",
   "execution_count": 18,
   "id": "22fe669c",
   "metadata": {
    "id": "22fe669c",
    "ExecuteTime": {
     "end_time": "2023-08-27T23:34:29.434032100Z",
     "start_time": "2023-08-27T23:34:29.428038400Z"
    }
   },
   "outputs": [
    {
     "name": "stdout",
     "output_type": "stream",
     "text": [
      "[[1.  0.6 2.2]\n",
      " [0.  0.  1. ]\n",
      " [0.  0.  0. ]]\n"
     ]
    }
   ],
   "source": [
    "A = np.array([[5,3,11],[15,9,33],[20,12,55]])\n",
    "print(row_echelon(A))"
   ]
  }
 ],
 "metadata": {
  "kernelspec": {
   "display_name": "Python 3 (ipykernel)",
   "language": "python",
   "name": "python3"
  },
  "language_info": {
   "codemirror_mode": {
    "name": "ipython",
    "version": 3
   },
   "file_extension": ".py",
   "mimetype": "text/x-python",
   "name": "python",
   "nbconvert_exporter": "python",
   "pygments_lexer": "ipython3",
   "version": "3.9.7"
  },
  "colab": {
   "provenance": []
  }
 },
 "nbformat": 4,
 "nbformat_minor": 5
}
