{
 "cells": [
  {
   "cell_type": "code",
   "execution_count": 1,
   "metadata": {
    "collapsed": true,
    "ExecuteTime": {
     "end_time": "2023-09-15T18:51:53.703288800Z",
     "start_time": "2023-09-15T18:51:52.035576800Z"
    }
   },
   "outputs": [],
   "source": [
    "import numpy as np\n",
    "import row_echelon as rw"
   ]
  },
  {
   "cell_type": "code",
   "execution_count": 2,
   "outputs": [
    {
     "name": "stdout",
     "output_type": "stream",
     "text": [
      "la suma de los vectores es:  [13  9 -2  7]\n"
     ]
    }
   ],
   "source": [
    "v1 = np.array([10,5,-7,1])\n",
    "v2 = np.array([3,4,5,6])\n",
    "print(\"la suma de los vectores es: \", v1 +v2)"
   ],
   "metadata": {
    "collapsed": false,
    "ExecuteTime": {
     "end_time": "2023-09-15T18:51:53.814302600Z",
     "start_time": "2023-09-15T18:51:53.743449600Z"
    }
   }
  },
  {
   "cell_type": "code",
   "execution_count": 3,
   "outputs": [],
   "source": [
    "A = np.array([[1,2,0,-1],[2,4,3,4],[0,0,3,6]])"
   ],
   "metadata": {
    "collapsed": false,
    "ExecuteTime": {
     "end_time": "2023-09-15T18:51:53.814302600Z",
     "start_time": "2023-09-15T18:51:53.814302600Z"
    }
   }
  },
  {
   "cell_type": "code",
   "execution_count": 4,
   "outputs": [
    {
     "data": {
      "text/plain": "array([[ 1,  2,  0, -1],\n       [ 0,  0,  1,  2],\n       [ 0,  0,  0,  0]])"
     },
     "execution_count": 4,
     "metadata": {},
     "output_type": "execute_result"
    }
   ],
   "source": [
    "def row_echelon(A):\n",
    "    \"\"\" Return Row Echelon Form of matrix A \"\"\"\n",
    "\n",
    "    # if matrix A has no columns or rows,\n",
    "    # it is already in REF, so we return itself\n",
    "    r, c = A.shape\n",
    "    if r == 0 or c == 0:\n",
    "        return A\n",
    "\n",
    "    # we search for non-zero element in the first column\n",
    "    for i in range(len(A)):\n",
    "        if A[i,0] != 0:\n",
    "            break\n",
    "    else:\n",
    "        # if all elements in the first column is zero,\n",
    "        # we perform REF on matrix from second column\n",
    "        B = row_echelon(A[:,1:])\n",
    "        # and then add the first zero-column back\n",
    "        return np.hstack([A[:,:1], B])\n",
    "\n",
    "    # if non-zero element happens not in the first row,\n",
    "    # we switch rows\n",
    "    if i > 0:\n",
    "        ith_row = A[i].copy()\n",
    "        A[i] = A[0]\n",
    "        A[0] = ith_row\n",
    "\n",
    "    # we divide first row by first element in it\n",
    "    A[0] = A[0] / A[0,0]\n",
    "    # we subtract all subsequent rows with first row (it has 1 now as first element)\n",
    "    # multiplied by the corresponding element in the first column\n",
    "    A[1:] -= A[0] * A[1:,0:1]\n",
    "\n",
    "    # we perform REF on matrix from second row, from second column\n",
    "    B = row_echelon(A[1:,1:])\n",
    "\n",
    "    # we add first row and first (zero) column, and return\n",
    "    return np.vstack([A[:1], np.hstack([A[1:,:1], B]) ])\n",
    "\n",
    "row_echelon(A)"
   ],
   "metadata": {
    "collapsed": false,
    "ExecuteTime": {
     "end_time": "2023-09-15T18:51:54.031064400Z",
     "start_time": "2023-09-15T18:51:53.814302600Z"
    }
   }
  },
  {
   "cell_type": "code",
   "execution_count": 5,
   "outputs": [
    {
     "name": "stdout",
     "output_type": "stream",
     "text": [
      "[[ 1  1 -2  1 -2]\n",
      " [ 3 -2  1  5  3]\n",
      " [ 1 -1  1  2  2]]\n"
     ]
    }
   ],
   "source": [
    "unoA= np.array([[1,1,-2,1,-2],[3, -2,1,5,3], [1,-1,1,2,2]])\n",
    "print(unoA)"
   ],
   "metadata": {
    "collapsed": false,
    "ExecuteTime": {
     "end_time": "2023-09-15T18:51:54.046707100Z",
     "start_time": "2023-09-15T18:51:54.014161900Z"
    }
   }
  },
  {
   "cell_type": "code",
   "execution_count": 6,
   "outputs": [
    {
     "data": {
      "text/plain": "array([[ 1,  1, -2,  1, -2],\n       [ 0,  1, -1,  0, -1],\n       [ 0,  0,  1,  1,  2]])"
     },
     "execution_count": 6,
     "metadata": {},
     "output_type": "execute_result"
    }
   ],
   "source": [
    "row_echelon(unoA)"
   ],
   "metadata": {
    "collapsed": false,
    "ExecuteTime": {
     "end_time": "2023-09-15T18:51:54.061193800Z",
     "start_time": "2023-09-15T18:51:54.031064400Z"
    }
   }
  },
  {
   "cell_type": "code",
   "execution_count": 7,
   "outputs": [
    {
     "data": {
      "text/plain": "array([[ 1,  1, -2,  1,  0],\n       [ 0,  1, -1,  0,  0],\n       [ 0,  0,  1,  1,  0]])"
     },
     "execution_count": 7,
     "metadata": {},
     "output_type": "execute_result"
    }
   ],
   "source": [
    "unoAH= np.array([[1,1,-2,1,0],[3, -2,1,5,0], [1,-1,1,2,0]])\n",
    "row_echelon(unoAH)"
   ],
   "metadata": {
    "collapsed": false,
    "ExecuteTime": {
     "end_time": "2023-09-15T18:51:54.123683400Z",
     "start_time": "2023-09-15T18:51:54.061193800Z"
    }
   }
  },
  {
   "cell_type": "code",
   "execution_count": 8,
   "outputs": [
    {
     "name": "stdout",
     "output_type": "stream",
     "text": [
      "[[1 2 3 4 5]\n",
      " [0 1 2 3 4]\n",
      " [2 3 4 5 6]\n",
      " [0 0 1 2 3]\n",
      " [0 0 0 0 1]]\n"
     ]
    },
    {
     "data": {
      "text/plain": "array([[1, 2, 0],\n       [3, 4, 0],\n       [5, 6, 1]])"
     },
     "execution_count": 8,
     "metadata": {},
     "output_type": "execute_result"
    }
   ],
   "source": [
    "A=np.array([[1,2,3,4,5],[0,1,2,3,4], [2,3,4,5,6],[0,0,1,2,3],[0,0,0,0,1]])\n",
    "print(A)\n",
    "A[0:2, 3:5]\n",
    "A[:2, 3:]\n",
    "A[[0,2,4],:]\n",
    "ind=np.array([0,2,4])\n",
    "A[ind,ind]\n",
    "A[ind,ind[:,None]]\n",
    "\n"
   ],
   "metadata": {
    "collapsed": false,
    "ExecuteTime": {
     "end_time": "2023-09-15T18:51:54.167890300Z",
     "start_time": "2023-09-15T18:51:54.087242700Z"
    }
   }
  },
  {
   "cell_type": "code",
   "execution_count": 9,
   "outputs": [
    {
     "data": {
      "text/plain": "(-2+1j)"
     },
     "execution_count": 9,
     "metadata": {},
     "output_type": "execute_result"
    }
   ],
   "source": [
    "1j*1j\n",
    "(1+2j)*1j"
   ],
   "metadata": {
    "collapsed": false,
    "ExecuteTime": {
     "end_time": "2023-09-15T18:51:54.217599100Z",
     "start_time": "2023-09-15T18:51:54.132329400Z"
    }
   }
  },
  {
   "cell_type": "code",
   "execution_count": 10,
   "outputs": [
    {
     "data": {
      "text/plain": "array([-1.5,  5.5, -3. ])"
     },
     "execution_count": 10,
     "metadata": {},
     "output_type": "execute_result"
    }
   ],
   "source": [
    "import matplotlib.pyplot as plt\n",
    "B = np.array( [ [ 1 , 1 , 1 ] , [ 4 , 2 , 1  ] , [ 9 , 3 , 1 ]] )\n",
    "res = np.array([1,2,0])\n",
    "r=np.linalg.solve(B, res)\n",
    "r\n",
    "\n"
   ],
   "metadata": {
    "collapsed": false,
    "ExecuteTime": {
     "end_time": "2023-09-15T18:52:01.020704300Z",
     "start_time": "2023-09-15T18:51:54.217599100Z"
    }
   }
  },
  {
   "cell_type": "code",
   "execution_count": 11,
   "outputs": [
    {
     "data": {
      "text/plain": "<Figure size 640x480 with 1 Axes>",
      "image/png": "[encoded data removed]"
     },
     "metadata": {},
     "output_type": "display_data"
    }
   ],
   "source": [
    "xx=np.array([1,2,3])\n",
    "yy=np.array([1,2,0])\n",
    "x=np.linspace(0,4,100)\n",
    "f=lambda t:r[0]*t**2+r[1]*t+r[2]\n",
    "plt.plot( xx , yy , \"*\" )\n",
    "plt.plot( x , f(x) )\n",
    "plt.show( )"
   ],
   "metadata": {
    "collapsed": false,
    "ExecuteTime": {
     "end_time": "2023-09-15T18:52:02.636587200Z",
     "start_time": "2023-09-15T18:52:01.036343400Z"
    }
   }
  },
  {
   "cell_type": "code",
   "execution_count": 12,
   "outputs": [
    {
     "data": {
      "text/plain": "array([[ 1, -1,  2,  1,  0],\n       [ 0,  1, -1, -1,  0],\n       [ 0,  0,  1,  0,  0],\n       [ 0,  0,  0,  1,  0]])"
     },
     "execution_count": 12,
     "metadata": {},
     "output_type": "execute_result"
    }
   ],
   "source": [
    "#Punto 6\n",
    "p6a = np.array([[1,-1, 2, 1],[3, 1, 0, -1],[1, 1, -1, -1],[2, 1, 3, 5]])\n",
    "p6as = np.array([0,0,0,0])\n",
    "p6ra = np.c_[p6a,p6as]\n",
    "row_echelon(p6ra)"
   ],
   "metadata": {
    "collapsed": false,
    "ExecuteTime": {
     "end_time": "2023-09-15T18:52:02.795801Z",
     "start_time": "2023-09-15T18:52:02.652228500Z"
    }
   }
  },
  {
   "cell_type": "code",
   "execution_count": 13,
   "outputs": [
    {
     "data": {
      "text/plain": "array([[ 1, -1,  2,  1,  0],\n       [ 0,  1, -1, -1,  0],\n       [ 0,  0,  1,  0,  0],\n       [ 0,  0,  0,  1,  0]])"
     },
     "execution_count": 13,
     "metadata": {},
     "output_type": "execute_result"
    }
   ],
   "source": [
    "p6b = np.array([[1,-1, 2, 1],[3, 1, 0, -1],[1, 1, -1, -1],[5,-2,-3,0]])\n",
    "p6bs = np.array([0,0,0,0])\n",
    "p6rb = np.c_[p6b,p6bs]\n",
    "row_echelon(p6rb)"
   ],
   "metadata": {
    "collapsed": false,
    "ExecuteTime": {
     "end_time": "2023-09-15T18:52:02.811430300Z",
     "start_time": "2023-09-15T18:52:02.670244400Z"
    }
   }
  },
  {
   "cell_type": "code",
   "execution_count": 14,
   "outputs": [
    {
     "data": {
      "text/plain": "array([[ 1, -1,  2,  1,  0],\n       [ 0,  1, -1, -1,  0],\n       [ 0,  0,  1,  0,  0],\n       [ 0,  0,  0,  1,  0]])"
     },
     "execution_count": 14,
     "metadata": {},
     "output_type": "execute_result"
    }
   ],
   "source": [
    "p6c = np.array([[1,0, 1, 0],[0, 1, -1, 0],[0,0, 0,1],[5,-2,-3,0]])\n",
    "p6cs = np.array([0,0,0,0])\n",
    "p6rc = np.c_[p6c,p6cs]\n",
    "row_echelon(p6rb)"
   ],
   "metadata": {
    "collapsed": false,
    "ExecuteTime": {
     "end_time": "2023-09-15T18:52:02.811430300Z",
     "start_time": "2023-09-15T18:52:02.728997200Z"
    }
   }
  },
  {
   "cell_type": "code",
   "execution_count": 15,
   "outputs": [
    {
     "data": {
      "text/plain": "array([[ 1,  1, -1],\n       [ 0,  1,  1],\n       [ 0,  0,  1]])"
     },
     "execution_count": 15,
     "metadata": {},
     "output_type": "execute_result"
    }
   ],
   "source": [
    "s=np.array([[1,1,-1]])\n",
    "row_echelon(s)\n",
    "\n",
    "t=np.array([[1,1,0],[5,7,3]])\n",
    "row_echelon(t)\n",
    "\n",
    "syT=np.array([[1,1,-1,],[1,1,0],[0,1,1]])\n",
    "row_echelon(syT)\n",
    "\n"
   ],
   "metadata": {
    "collapsed": false,
    "ExecuteTime": {
     "end_time": "2023-09-15T18:52:02.864644400Z",
     "start_time": "2023-09-15T18:52:02.795801Z"
    }
   }
  },
  {
   "cell_type": "code",
   "execution_count": 16,
   "outputs": [
    {
     "data": {
      "text/plain": "array([[  1,   3,  -9],\n       [  0,   1, -12],\n       [  0,   0,   1]])"
     },
     "execution_count": 16,
     "metadata": {},
     "output_type": "execute_result"
    }
   ],
   "source": [
    "#Ejercicio 7c\n",
    "\n",
    "a=np.array([[1,3,-9],[1,2,3],[0,1,1]])\n",
    "row_echelon(a)"
   ],
   "metadata": {
    "collapsed": false,
    "ExecuteTime": {
     "end_time": "2023-09-15T18:52:03.396086500Z",
     "start_time": "2023-09-15T18:52:02.941288100Z"
    }
   }
  },
  {
   "cell_type": "code",
   "execution_count": 17,
   "outputs": [
    {
     "name": "stdout",
     "output_type": "stream",
     "text": [
      "[[ 1  4 -1  3]\n",
      " [ 0  1  0  1]\n",
      " [ 0  0  1 -7]]\n",
      "[[ 1  0 -1  0]\n",
      " [ 0  1  0  0]\n",
      " [ 0  0  1 -5]]\n"
     ]
    }
   ],
   "source": [
    "#Ejercicio 10\n",
    "a=np.array([1,4,-1,3])\n",
    "b=np.array([2,1,-3,-1])\n",
    "c=np.array([0,2,1,-5])\n",
    "A=np.array([a,b,c])\n",
    "print(row_echelon(A))\n",
    "\n",
    "a=np.array([1,4,-1,3])\n",
    "b=np.array([2,1,-3,-1])\n",
    "c=np.array([0,2,1,-5])\n",
    "B=np.array([b,a,c])\n",
    "print(row_echelon(B))"
   ],
   "metadata": {
    "collapsed": false,
    "ExecuteTime": {
     "end_time": "2023-09-15T18:52:03.396086500Z",
     "start_time": "2023-09-15T18:52:03.396086500Z"
    }
   }
  },
  {
   "cell_type": "code",
   "execution_count": 18,
   "outputs": [
    {
     "data": {
      "text/plain": "array([[1.+0.j, 0.+0.j, 0.+0.j, 1.+0.j],\n       [0.+0.j, 1.+0.j, 1.+0.j, 0.+0.j],\n       [0.+0.j, 0.+0.j, 1.-0.j, 1.-0.j],\n       [0.+0.j, 0.+0.j, 0.+0.j, 0.+0.j]])"
     },
     "execution_count": 18,
     "metadata": {},
     "output_type": "execute_result"
    }
   ],
   "source": [
    "#Ejercicio 11\n",
    "ej11=np.array([[1,0,0,1], [1,1j,1j,1],[1,1,0,0],[1,1,0,0]])\n",
    "row_echelon(ej11)\n"
   ],
   "metadata": {
    "collapsed": false,
    "ExecuteTime": {
     "end_time": "2023-09-15T18:52:03.488959900Z",
     "start_time": "2023-09-15T18:52:03.411722300Z"
    }
   }
  },
  {
   "cell_type": "code",
   "execution_count": 19,
   "outputs": [
    {
     "name": "stdout",
     "output_type": "stream",
     "text": [
      "[[4 6 4]\n",
      " [2 3 2]\n",
      " [4 6 4]]\n",
      "[[11]]\n"
     ]
    }
   ],
   "source": [
    "a = np.array([[2],[1],[2]])\n",
    "b=np.array([[2,3,2]])\n",
    "print(a @ b)\n",
    "print (b @ a)"
   ],
   "metadata": {
    "collapsed": false,
    "ExecuteTime": {
     "end_time": "2023-09-15T18:52:03.488959900Z",
     "start_time": "2023-09-15T18:52:03.441645800Z"
    }
   }
  },
  {
   "cell_type": "code",
   "execution_count": 20,
   "outputs": [
    {
     "name": "stdout",
     "output_type": "stream",
     "text": [
      "-5.000000000000001\n",
      "(-7.000000000000001+1.0000000000000004j)\n"
     ]
    }
   ],
   "source": [
    "#Ejercicio 18a\n",
    "a=np.array([[1,0,0,2], [0,-2,3,-1],[-1,0,1,4],[0,1,-2,0]])\n",
    "print(np.linalg.det(a))\n",
    "\n",
    "#Ejercicio 18b\n",
    "b=np.array([[1j,0,2+1j],[-1,1-1j,0],[2,0,-1]])\n",
    "print(np.linalg.det(b))"
   ],
   "metadata": {
    "collapsed": false,
    "ExecuteTime": {
     "end_time": "2023-09-15T18:52:03.488959900Z",
     "start_time": "2023-09-15T18:52:03.441645800Z"
    }
   }
  },
  {
   "cell_type": "code",
   "execution_count": 21,
   "outputs": [
    {
     "data": {
      "text/plain": "array([[ 6.66666667e-01,  0.00000000e+00, -6.66666667e-01,\n         0.00000000e+00],\n       [ 1.35107989e+16,  2.70215978e+16,  1.35107989e+16,\n        -1.35107989e+16],\n       [-0.00000000e+00,  1.00000000e+00, -0.00000000e+00,\n        -0.00000000e+00],\n       [-4.50359963e+15, -9.00719925e+15, -4.50359963e+15,\n         4.50359963e+15]])"
     },
     "execution_count": 21,
     "metadata": {},
     "output_type": "execute_result"
    }
   ],
   "source": [
    "#Ejercicio 19\n",
    "a=np.array([[1,1,1],[0,1,1],[0,0,1]])\n",
    "np.linalg.inv(a)\n",
    "\n",
    "c=np.array([[1,0,-1,0], [0,0,1,0],[2,1,-2,3], [3,1,-1,3]])\n",
    "np.linalg.inv(c)"
   ],
   "metadata": {
    "collapsed": false,
    "ExecuteTime": {
     "end_time": "2023-09-15T18:52:03.488959900Z",
     "start_time": "2023-09-15T18:52:03.441645800Z"
    }
   }
  },
  {
   "cell_type": "code",
   "execution_count": 22,
   "outputs": [
    {
     "name": "stdout",
     "output_type": "stream",
     "text": [
      "La sumatoria es:  3318\n"
     ]
    }
   ],
   "source": [
    "def traza(a):\n",
    "    res=0\n",
    "    for i in range(len(a)):\n",
    "        res+=a[i,i]\n",
    "    return res\n",
    "\n",
    "b=np.array([[1,1,10],[7,92,1],[1,3,78]])\n",
    "traza(b)\n",
    "\n",
    "def sumatoria(A):\n",
    "    res=0\n",
    "    for i in range(len(A)):\n",
    "        for j in range (len(A[i])):\n",
    "            res+=A[i,j]\n",
    "    return res\n",
    "\n",
    "c=np.array([[6,6,100,-899],[1,1,100,3], [1000,1000,1000,1000]])\n",
    "print(\"La sumatoria es: \",sumatoria(c))"
   ],
   "metadata": {
    "collapsed": false,
    "ExecuteTime": {
     "end_time": "2023-09-15T18:52:03.580809300Z",
     "start_time": "2023-09-15T18:52:03.441645800Z"
    }
   }
  },
  {
   "cell_type": "code",
   "execution_count": 22,
   "outputs": [],
   "source": [],
   "metadata": {
    "collapsed": false,
    "ExecuteTime": {
     "end_time": "2023-09-15T18:52:03.580809300Z",
     "start_time": "2023-09-15T18:52:03.575326300Z"
    }
   }
  }
 ],
 "metadata": {
  "kernelspec": {
   "display_name": "Python 3",
   "language": "python",
   "name": "python3"
  },
  "language_info": {
   "codemirror_mode": {
    "name": "ipython",
    "version": 2
   },
   "file_extension": ".py",
   "mimetype": "text/x-python",
   "name": "python",
   "nbconvert_exporter": "python",
   "pygments_lexer": "ipython2",
   "version": "2.7.6"
  }
 },
 "nbformat": 4,
 "nbformat_minor": 0
}
