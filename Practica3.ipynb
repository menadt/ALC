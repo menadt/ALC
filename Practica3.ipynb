{
 "cells": [
  {
   "cell_type": "code",
   "execution_count": 10,
   "metadata": {
    "collapsed": true,
    "ExecuteTime": {
     "end_time": "2023-09-15T19:12:11.671052700Z",
     "start_time": "2023-09-15T19:12:11.657247600Z"
    }
   },
   "outputs": [],
   "source": [
    "import numpy as np\n",
    "import matplotlib.pyplot as plt\n",
    "import scipy.linalg as scp\n"
   ]
  },
  {
   "cell_type": "code",
   "execution_count": 11,
   "outputs": [],
   "source": [
    "#Ejercicio 1\n",
    "def descompLU (A):\n",
    "  n = A.shape[0] # Sacamos el n de la matriz\n",
    "  if np.linalg.det(A)==0:\n",
    "    I=np.eye(n)\n",
    "    return I,A\n",
    "  else:\n",
    "    if n==1:\n",
    "      I=np.eye(1)\n",
    "      return I, A\n",
    "    else:\n",
    "      if A[0,0]==0:\n",
    "        return np.eye(n),A\n",
    "      else:\n",
    "        A11=A[0,0]\n",
    "        A12=A[0,1:]\n",
    "        A21=A[1:,0]\n",
    "        A22=A[1:, 1:]\n",
    "        L=np.zeros([n,n])\n",
    "        U=np.zeros([n,n])\n",
    "        L21=A21/A11\n",
    "        L[1:,0] = L21\n",
    "        U12=A12\n",
    "        resta = L21.reshape(-1, 1) @ U12.reshape(1, -1)\n",
    "        LU=A22-resta\n",
    "        Ele, uu=descompLU(LU)\n",
    "        L[0,0]=1\n",
    "        L[1:,1:]=Ele\n",
    "        U[0,0]=A11\n",
    "        U[0,1:]=A12\n",
    "        U[1:,1:]=uu\n",
    "        for i in range(n):\n",
    "          if L[i,i]==0 or U[i,i]==0:\n",
    "            return np.eye(n),A\n",
    "        return L,U"
   ],
   "metadata": {
    "collapsed": false,
    "ExecuteTime": {
     "end_time": "2023-09-15T19:12:11.714374100Z",
     "start_time": "2023-09-15T19:12:11.671052700Z"
    }
   }
  },
  {
   "cell_type": "code",
   "execution_count": 78,
   "outputs": [
    {
     "name": "stdout",
     "output_type": "stream",
     "text": [
      "[ 0.  1. -2.  2.]\n"
     ]
    }
   ],
   "source": [
    "def solve_Ly(A,b):\n",
    "    res=[]\n",
    "    res.append(b[0]/A[0,0])\n",
    "    for i in range(1,len(A)):\n",
    "        r=0\n",
    "        for j in range(i):\n",
    "            r=r+A[i,j]*res[j]\n",
    "        sol=(b[i]-r)\n",
    "        res.append(sol)\n",
    "\n",
    "    return y\n",
    "\n",
    "\n",
    "def solve_Ux(U, y):\n",
    "    n = len(U)\n",
    "    res = []\n",
    "    res.append(y[n - 1] / U[n - 1, n - 1])\n",
    "    i = n - 2\n",
    "    while i >= 0:\n",
    "        k = 0\n",
    "        r = 0\n",
    "        j = n - 1\n",
    "        while j > i:\n",
    "            r = r + U[i, j] * res[k]\n",
    "            j = j - 1\n",
    "            k=k+1\n",
    "        sol = (y[i] - r) / U[i, i]\n",
    "        res.append(sol)\n",
    "        i = i - 1\n",
    "\n",
    "    x = np.zeros(n)\n",
    "    for i in range(n):\n",
    "        x[i] = np.take(res,len(res)-1-i) #res.pop()\n",
    "    return x\n",
    "\n",
    "# Ejemplo de uso\n",
    "U = np.array([[1.0, -1.0, 0.0, 1.0], [0.0, 1.0, 4.0, 0.0], [0.0, 0.0, -4.0, -4.0], [0.0, 0.0, 0.0, 2.0]])\n",
    "y = np.array([1.0, -7.0, 0.0, 4.0])\n",
    "x = solve_Ux(U, y)\n",
    "print(x)\n",
    "\n"
   ],
   "metadata": {
    "collapsed": false,
    "ExecuteTime": {
     "end_time": "2023-09-18T02:09:18.737681900Z",
     "start_time": "2023-09-18T02:09:18.718111Z"
    }
   }
  },
  {
   "cell_type": "code",
   "execution_count": 79,
   "outputs": [
    {
     "name": "stdout",
     "output_type": "stream",
     "text": [
      "Ya creada [[ 1.]\n",
      " [-7.]\n",
      " [ 0.]\n",
      " [ 4.]]\n",
      "La mia:  [[ 1]\n",
      " [-7]\n",
      " [ 0]\n",
      " [ 4]]\n",
      "Ya creada [[ 0.]\n",
      " [ 1.]\n",
      " [-2.]\n",
      " [ 2.]]\n",
      "La mia:  [ 0.  1. -2.  2.]\n"
     ]
    }
   ],
   "source": [
    "from scipy.linalg import solve_triangular as st\n",
    "A=np.array([[1,-1,0,1],[0,1,4,0],[2,-1,0,-2],[-3,3,0,-1]])\n",
    "L,U=descompLU(A)\n",
    "b=np.array([[1,-7,-5,1]]).T\n",
    "y=np.array([[1,-7,0,4]]).T\n",
    "ej3=solve_Ly(L,b)\n",
    "ej3b=solve_Ux(U,ej3)\n",
    "print(\"Ya creada\", st(L,b, lower=True))\n",
    "print(\"La mia: \", ej3)\n",
    "\n",
    "print(\"Ya creada\", st(U,y))\n",
    "print(\"La mia: \", ej3b)\n"
   ],
   "metadata": {
    "collapsed": false,
    "ExecuteTime": {
     "end_time": "2023-09-18T02:09:23.194501800Z",
     "start_time": "2023-09-18T02:09:23.168482800Z"
    }
   }
  },
  {
   "cell_type": "code",
   "execution_count": 27,
   "outputs": [
    {
     "data": {
      "text/plain": "array([[ 1],\n       [-7],\n       [ 0],\n       [ 4]])"
     },
     "execution_count": 27,
     "metadata": {},
     "output_type": "execute_result"
    }
   ],
   "source": [
    "h=solve_Ly(L,b)\n",
    "h"
   ],
   "metadata": {
    "collapsed": false,
    "ExecuteTime": {
     "end_time": "2023-09-15T19:25:08.692721400Z",
     "start_time": "2023-09-15T19:25:08.681705900Z"
    }
   }
  },
  {
   "cell_type": "code",
   "execution_count": 81,
   "outputs": [],
   "source": [
    "def resolverLU(A, b):\n",
    "    L, U = descompLU(A)\n",
    "    y=solve_Ly(L,b)\n",
    "    x = solve_Ux(U,y)\n",
    "    return x"
   ],
   "metadata": {
    "collapsed": false,
    "ExecuteTime": {
     "end_time": "2023-09-18T02:09:31.373050Z",
     "start_time": "2023-09-18T02:09:31.372535600Z"
    }
   }
  },
  {
   "cell_type": "code",
   "execution_count": 82,
   "outputs": [
    {
     "data": {
      "text/plain": "array([ 0.,  1., -2.,  2.])"
     },
     "execution_count": 82,
     "metadata": {},
     "output_type": "execute_result"
    }
   ],
   "source": [
    "A = np.array([[1, -1, 0, 1], [0, 1, 4, 0], [2, -1, 0, -2], [-3, 3, 0, -1]])\n",
    "b = np.array([[1, -7, -5, 1]]).T\n",
    "resolverLU(A, b)"
   ],
   "metadata": {
    "collapsed": false,
    "ExecuteTime": {
     "end_time": "2023-09-18T02:09:33.320052Z",
     "start_time": "2023-09-18T02:09:33.310180900Z"
    }
   }
  }
 ],
 "metadata": {
  "kernelspec": {
   "display_name": "Python 3",
   "language": "python",
   "name": "python3"
  },
  "language_info": {
   "codemirror_mode": {
    "name": "ipython",
    "version": 2
   },
   "file_extension": ".py",
   "mimetype": "text/x-python",
   "name": "python",
   "nbconvert_exporter": "python",
   "pygments_lexer": "ipython2",
   "version": "2.7.6"
  }
 },
 "nbformat": 4,
 "nbformat_minor": 0
}
