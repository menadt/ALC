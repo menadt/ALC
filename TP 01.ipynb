{
 "cells": [
  {
   "cell_type": "markdown",
   "source": [
    "Álgebra Lineal Computacional\n",
    "TP 1\n",
    "\n",
    "Integrantes:\n",
    "    Joel LU\n",
    "    Martín Menalled LU 339/22\n",
    "\n"
   ],
   "metadata": {
    "collapsed": false
   }
  },
  {
   "cell_type": "code",
   "execution_count": 1,
   "outputs": [],
   "source": [
    "import numpy as np  # Importamos librería"
   ],
   "metadata": {
    "collapsed": false,
    "ExecuteTime": {
     "end_time": "2023-09-15T18:51:53.703288800Z",
     "start_time": "2023-09-15T18:51:52.146664300Z"
    }
   }
  },
  {
   "cell_type": "code",
   "execution_count": 9,
   "outputs": [],
   "source": [
    "#Ejercicio 1\n",
    "def descompLU (A):\n",
    "  n = A.shape[0] # Sacamos el n de la matriz\n",
    "  if np.linalg.det(A)==0:\n",
    "    I=np.eye(n)\n",
    "    return I,A\n",
    "  else:\n",
    "    if n==1:\n",
    "      I=np.eye(1)\n",
    "      return I, A\n",
    "    else:\n",
    "      if A[0,0]==0:\n",
    "        return np.eye(n),A\n",
    "      else:\n",
    "        A11=A[0,0]\n",
    "        A12=A[0,1:]\n",
    "        A21=A[1:,0]\n",
    "        A22=A[1:, 1:]\n",
    "        L=np.zeros([n,n])\n",
    "        U=np.zeros([n,n])\n",
    "        L21=A21/A11\n",
    "        L[1:,0] = L21\n",
    "        U12=A12\n",
    "        resta = L21.reshape(-1, 1) @ U12.reshape(1, -1)\n",
    "        LU=A22-resta\n",
    "        Ele, uu=descompLU(LU)\n",
    "        L[0,0]=1\n",
    "        L[1:,1:]=Ele\n",
    "        U[0,0]=A11\n",
    "        U[0,1:]=A12\n",
    "        U[1:,1:]=uu\n",
    "        for i in range(n):\n",
    "          if L[i,i]==0 or U[i,i]==0:\n",
    "            return np.eye(n),A\n",
    "        return L,U"
   ],
   "metadata": {
    "collapsed": false
   }
  },
  {
   "cell_type": "code",
   "execution_count": 3,
   "outputs": [
    {
     "data": {
      "text/plain": "(array([[1., 0., 0.],\n        [0., 1., 0.],\n        [0., 0., 1.]]),\n array([[1, 1, 1],\n        [1, 1, 2],\n        [1, 3, 5]]))"
     },
     "execution_count": 3,
     "metadata": {},
     "output_type": "execute_result"
    }
   ],
   "source": [
    "C=np.array([[3]])\n",
    "B=np.array([[5,2],[3,5]])\n",
    "A = np.array([[2, -3, 5], [6, -1, 3], [-4, 1, -2]])\n",
    "D = np.array([[1,1,1],[1,1,2],[1,3,5]])\n",
    "\n",
    "descompLU(D)\n"
   ],
   "metadata": {
    "collapsed": false,
    "ExecuteTime": {
     "end_time": "2023-09-15T18:51:53.885053800Z",
     "start_time": "2023-09-15T18:51:53.774714400Z"
    }
   }
  },
  {
   "cell_type": "code",
   "execution_count": 4,
   "outputs": [],
   "source": [
    "import numpy as np\n",
    "import math\n",
    "import traceback\n",
    "\n",
    "\n",
    "def mntest(func):\n",
    "    global tests\n",
    "\n",
    "    tests.append(func)\n",
    "\n",
    "    return func\n",
    "\n",
    "def correr_tests():\n",
    "    excepciones = []\n",
    "    for test in tests:\n",
    "        try:\n",
    "            print(\"Corriendo {} ... \".format(test.__name__), end='')\n",
    "            test()\n",
    "            print(\"OK\")\n",
    "        except AssertionError as e:\n",
    "            error_msg = traceback.format_exc()\n",
    "            excepciones.append((test, error_msg))\n",
    "            print(\"ERROR\")\n",
    "\n",
    "    if len(excepciones) > 0:\n",
    "        print(\"\\nErrores:\\n\")\n",
    "        for (test, error_msg) in excepciones:\n",
    "            print(\"En {}\".format(test.__name__))\n",
    "            print(error_msg)\n",
    "    else:\n",
    "        print(\"\\n\\nTodos los tests pasaron correctamente\")"
   ],
   "metadata": {
    "collapsed": false,
    "ExecuteTime": {
     "end_time": "2023-09-15T18:51:53.950412400Z",
     "start_time": "2023-09-15T18:51:53.885053800Z"
    }
   }
  },
  {
   "cell_type": "code",
   "execution_count": 5,
   "outputs": [
    {
     "name": "stdout",
     "output_type": "stream",
     "text": [
      "Corriendo testear_con_multiplo_identidad ... OK\n",
      "Corriendo testear_con_otra_matriz ... OK\n",
      "Corriendo testear_con_otra_matriz2 ... OK\n",
      "\n",
      "\n",
      "Todos los tests pasaron correctamente\n"
     ]
    }
   ],
   "source": [
    "tests = []\n",
    "\n",
    "\n",
    "@mntest\n",
    "def testear_con_multiplo_identidad():\n",
    "    A = 3 * np.identity(3)\n",
    "\n",
    "    L, U = descompLU(A)\n",
    "\n",
    "    assert(np.allclose(L, np.eye(3)))\n",
    "    assert(np.allclose(U, 3*np.eye(3)))\n",
    "\n",
    "\n",
    "\n",
    "@mntest\n",
    "def testear_con_otra_matriz():\n",
    "    L = np.array([\n",
    "        [1, 0, 0],\n",
    "        [1, 1, 0],\n",
    "        [1, 1, 1],\n",
    "    ])\n",
    "\n",
    "    U = np.array([\n",
    "        [1, 1, 1],\n",
    "        [0, 2, 2],\n",
    "        [0, 0, 3],\n",
    "    ])\n",
    "\n",
    "    A = L @ U\n",
    "\n",
    "    L1, U1 = descompLU(A)\n",
    "\n",
    "    assert(np.allclose(L1, L))\n",
    "    assert(np.allclose(U1, U))\n",
    "\n",
    "@mntest\n",
    "def testear_con_otra_matriz2():\n",
    "    A = np.array([\n",
    "        [8, 2, 0],\n",
    "        [4, 9, 4],\n",
    "        [6, 7, 9],\n",
    "    ])\n",
    "\n",
    "\n",
    "\n",
    "    L1, U1 = descompLU(A)\n",
    "\n",
    "    assert(np.allclose(L1@U1, A))\n",
    "\n",
    "\n",
    "\n",
    "correr_tests()"
   ],
   "metadata": {
    "collapsed": false,
    "ExecuteTime": {
     "end_time": "2023-09-15T18:51:53.992756Z",
     "start_time": "2023-09-15T18:51:53.925647300Z"
    }
   }
  },
  {
   "cell_type": "code",
   "execution_count": 6,
   "outputs": [
    {
     "data": {
      "text/plain": "array([[ 0.],\n       [ 1.],\n       [-2.],\n       [ 2.]])"
     },
     "execution_count": 6,
     "metadata": {},
     "output_type": "execute_result"
    }
   ],
   "source": [
    "A=np.array([[1,-1,0,1],[0,1,4,0],[2,-1,0,-2],[-3,3,0,-1]])\n",
    "L,U=descompLU(A)\n",
    "b=np.array([[1,-7,-5,1]]).T\n",
    "y=np.array([[1,-7,0,4]]).T\n",
    "np.linalg.solve(L,b)\n",
    "np.linalg.solve(U,y)"
   ],
   "metadata": {
    "collapsed": false,
    "ExecuteTime": {
     "end_time": "2023-09-15T18:51:54.427330900Z",
     "start_time": "2023-09-15T18:51:53.998523700Z"
    }
   }
  },
  {
   "cell_type": "code",
   "execution_count": 7,
   "outputs": [],
   "source": [
    "from scipy.linalg import solve_triangular as st\n",
    "def resolverLU(A,b):\n",
    "    L,U=descompLU(A)\n",
    "    y=st(L,b, lower=True)\n",
    "    x=st(U,y)\n",
    "    return x\n"
   ],
   "metadata": {
    "collapsed": false,
    "ExecuteTime": {
     "end_time": "2023-09-15T18:52:01.143804700Z",
     "start_time": "2023-09-15T18:51:54.427330900Z"
    }
   }
  },
  {
   "cell_type": "code",
   "execution_count": 8,
   "outputs": [
    {
     "data": {
      "text/plain": "array([[ 0.],\n       [ 1.],\n       [-2.],\n       [ 2.]])"
     },
     "execution_count": 8,
     "metadata": {},
     "output_type": "execute_result"
    }
   ],
   "source": [
    "A=np.array([[1,-1,0,1],[0,1,4,0],[2,-1,0,-2],[-3,3,0,-1]])\n",
    "b=np.array([[1,-7,-5,1]]).T\n",
    "resolverLU(A,b)"
   ],
   "metadata": {
    "collapsed": false,
    "ExecuteTime": {
     "end_time": "2023-09-15T18:52:01.199449800Z",
     "start_time": "2023-09-15T18:52:01.155778800Z"
    }
   }
  }
 ],
 "metadata": {
  "kernelspec": {
   "display_name": "Python 3",
   "language": "python",
   "name": "python3"
  },
  "language_info": {
   "codemirror_mode": {
    "name": "ipython",
    "version": 2
   },
   "file_extension": ".py",
   "mimetype": "text/x-python",
   "name": "python",
   "nbconvert_exporter": "python",
   "pygments_lexer": "ipython2",
   "version": "2.7.6"
  }
 },
 "nbformat": 4,
 "nbformat_minor": 0
}
