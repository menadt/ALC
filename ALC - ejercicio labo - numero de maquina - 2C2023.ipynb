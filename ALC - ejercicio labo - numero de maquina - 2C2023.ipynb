{
 "cells": [
  {
   "cell_type": "markdown",
   "metadata": {},
   "source": [
    "## Aritmética de punto flotante\n",
    "Link a conversor __[IEEE 754 precisión simple](https://www.h-schmidt.net/FloatConverter/IEEE754.html)__"
   ]
  },
  {
   "cell_type": "markdown",
   "metadata": {},
   "source": [
    "¿Qué está pasando?"
   ]
  },
  {
   "cell_type": "code",
   "execution_count": 6,
   "metadata": {
    "scrolled": true,
    "ExecuteTime": {
     "end_time": "2023-08-27T23:39:00.335661600Z",
     "start_time": "2023-08-27T23:39:00.321600700Z"
    }
   },
   "outputs": [
    {
     "data": {
      "text/plain": "0.5"
     },
     "execution_count": 6,
     "metadata": {},
     "output_type": "execute_result"
    }
   ],
   "source": [
    "0.2 + 0.3"
   ]
  },
  {
   "cell_type": "code",
   "execution_count": 7,
   "metadata": {
    "ExecuteTime": {
     "end_time": "2023-08-27T23:39:21.808688700Z",
     "start_time": "2023-08-27T23:39:21.791913100Z"
    }
   },
   "outputs": [
    {
     "name": "stdout",
     "output_type": "stream",
     "text": [
      "0.3\n"
     ]
    }
   ],
   "source": [
    "x = 0.3\n",
    "print(x)"
   ]
  },
  {
   "cell_type": "code",
   "execution_count": 8,
   "metadata": {
    "ExecuteTime": {
     "end_time": "2023-08-27T23:39:25.491938700Z",
     "start_time": "2023-08-27T23:39:25.470317900Z"
    }
   },
   "outputs": [
    {
     "data": {
      "text/plain": "0.09999999999999998"
     },
     "execution_count": 8,
     "metadata": {},
     "output_type": "execute_result"
    }
   ],
   "source": [
    "0.3 - 0.2"
   ]
  },
  {
   "cell_type": "markdown",
   "metadata": {},
   "source": [
    "- ¿Cuánto da $(\\sqrt{2})^2 - 2$?\n"
   ]
  },
  {
   "cell_type": "code",
   "execution_count": 9,
   "metadata": {
    "ExecuteTime": {
     "end_time": "2023-08-27T23:39:33.954119Z",
     "start_time": "2023-08-27T23:39:33.927134900Z"
    }
   },
   "outputs": [
    {
     "data": {
      "text/plain": "4.440892098500626e-16"
     },
     "execution_count": 9,
     "metadata": {},
     "output_type": "execute_result"
    }
   ],
   "source": [
    "import numpy as np\n",
    "np.sqrt(2)**2-2 "
   ]
  },
  {
   "cell_type": "markdown",
   "metadata": {},
   "source": [
    "- ¿Cuál es el límite cuando $n \\rightarrow \\infty$ de esta sucesión?\n",
    "$$\n",
    "\\begin{aligned}\n",
    "x_1 &= \\sqrt{2} \\\\\n",
    "x_{n+1} &= \\frac{x_n \\cdot x_n}{\\sqrt{2}}\n",
    "\\end{aligned}\n",
    "$$"
   ]
  },
  {
   "cell_type": "code",
   "execution_count": 10,
   "metadata": {
    "ExecuteTime": {
     "end_time": "2023-08-27T23:39:41.384656700Z",
     "start_time": "2023-08-27T23:39:41.362643400Z"
    }
   },
   "outputs": [
    {
     "name": "stdout",
     "output_type": "stream",
     "text": [
      "1.4142135623730951\n",
      "inf\n"
     ]
    },
    {
     "name": "stderr",
     "output_type": "stream",
     "text": [
      "C:\\Users\\Ariel\\AppData\\Local\\Temp\\ipykernel_20768\\2972370006.py:4: RuntimeWarning: overflow encountered in scalar multiply\n",
      "  x = (x * x) / np.sqrt(2)\n"
     ]
    }
   ],
   "source": [
    "x = np.sqrt(2)\n",
    "print(x)\n",
    "for i in range(100):\n",
    "    x = (x * x) / np.sqrt(2)\n",
    "print(x)"
   ]
  },
  {
   "cell_type": "markdown",
   "metadata": {},
   "source": [
    "## Acumulación de errores"
   ]
  },
  {
   "cell_type": "markdown",
   "metadata": {},
   "source": [
    "1. Se quiere calcular \n",
    "$$\n",
    "\\sum_{i=1}^{10^7} \\frac{1}{i} \\quad y \\quad \\sum_{i=1}^{2\\cdot10^7} \\frac{1}{i} \n",
    "$$\n",
    "usando aritmética de simple precisión (float32).\n",
    "\n",
    "Realizar para cada una de las expresiones un script que calcule el resultado. Qué se observa?"
   ]
  },
  {
   "cell_type": "code",
   "execution_count": 12,
   "metadata": {
    "scrolled": true,
    "ExecuteTime": {
     "end_time": "2023-08-27T23:47:15.693456Z",
     "start_time": "2023-08-27T23:47:07.056158Z"
    }
   },
   "outputs": [
    {
     "name": "stdout",
     "output_type": "stream",
     "text": [
      "suma =  16.695311365857272\n",
      "suma =  17.388458521417103\n"
     ]
    }
   ],
   "source": [
    "import numpy as np\n",
    "\n",
    "n = 7\n",
    "s1 = np.float32(0)\n",
    "for i in range(1,10**n+1):\n",
    "    s1+=1/i\n",
    "    # ** completar **\n",
    "print(\"suma = \", s1)\n",
    "\n",
    "s2 = np.float32(0)\n",
    "for i in range(1,2*10**n+1):\n",
    "    s2+=1/i\n",
    "    # ** completar **\n",
    "\n",
    "print(\"suma = \", s2)\n"
   ]
  },
  {
   "cell_type": "markdown",
   "metadata": {},
   "source": [
    "¿Qué modificación harías para reducir los errores numéricos?"
   ]
  },
  {
   "cell_type": "code",
   "execution_count": 13,
   "metadata": {
    "ExecuteTime": {
     "end_time": "2023-08-27T23:48:06.173486900Z",
     "start_time": "2023-08-27T23:47:57.598063400Z"
    }
   },
   "outputs": [
    {
     "name": "stdout",
     "output_type": "stream",
     "text": [
      "suma =  16.695311365859965\n",
      "suma =  17.38845852142046\n"
     ]
    }
   ],
   "source": [
    "n = 7\n",
    "s1 = np.float32(0)\n",
    "for i in range(10**n,0,-1):\n",
    "    s1+=1/i\n",
    "    # ** completar **\n",
    "print(\"suma = \", s1)\n",
    "\n",
    "s2 = np.float32(0)\n",
    "for i in range(2*10**n,0,-1):\n",
    "    s2+=1/i\n",
    "    # ** completar **\n",
    "\n",
    "print(\"suma = \", s2)\n"
   ]
  },
  {
   "cell_type": "markdown",
   "metadata": {},
   "source": [
    "2. Utilizar las mismas estrategias para estimar $e$ mediante la serie\n",
    "$$\n",
    "e \\approx \\sum_{n=0}^{10} \\frac{1}{n!}.\n",
    "$$\n",
    "\n",
    "Comparar con el valor real."
   ]
  },
  {
   "cell_type": "code",
   "execution_count": 17,
   "metadata": {
    "ExecuteTime": {
     "end_time": "2023-08-27T23:58:19.525416200Z",
     "start_time": "2023-08-27T23:58:19.504184400Z"
    }
   },
   "outputs": [
    {
     "name": "stdout",
     "output_type": "stream",
     "text": [
      "2.718281828459045\n",
      "suma = 2.71827876984127\n",
      "suma = 2.7182818011463845\n"
     ]
    }
   ],
   "source": [
    "print(np.exp(1))\n",
    "from math import factorial\n",
    "\n",
    "\n",
    "s = np.float32(0)\n",
    "n=1\n",
    "for i in range(1,10):\n",
    "    s+=1/n\n",
    "    n=n*i\n",
    "print('suma =', s)\n",
    "\n",
    "s = np.float32(0)\n",
    "n=factorial(10)\n",
    "for i in range(10,0, -1):\n",
    "    s+=1/n\n",
    "    n=n/i\n",
    "s+=1\n",
    "print('suma =', s)"
   ]
  },
  {
   "cell_type": "markdown",
   "metadata": {},
   "source": [
    "3. El siguiente código suma 1 10^8 veces. ¿Coincide la respuesta con el valor esperado? ¿Es posible modificar el código para calcular el valor correcto?"
   ]
  },
  {
   "cell_type": "code",
   "execution_count": 20,
   "metadata": {
    "ExecuteTime": {
     "end_time": "2023-08-28T00:02:12.529446400Z",
     "start_time": "2023-08-28T00:02:12.508249700Z"
    }
   },
   "outputs": [
    {
     "name": "stdout",
     "output_type": "stream",
     "text": [
      "100000000\n",
      "10000\n",
      "100000000.0\n"
     ]
    }
   ],
   "source": [
    "print(10**8)\n",
    "print(10**4)\n",
    "\n",
    "c = np.float32(0)\n",
    "\n",
    "for i in range(10**4):\n",
    "    c += np.float32(1)\n",
    "\n",
    "c=c**2\n",
    "print(c)\n"
   ]
  }
 ],
 "metadata": {
  "kernelspec": {
   "display_name": "Python 3 (ipykernel)",
   "language": "python",
   "name": "python3"
  },
  "language_info": {
   "codemirror_mode": {
    "name": "ipython",
    "version": 3
   },
   "file_extension": ".py",
   "mimetype": "text/x-python",
   "name": "python",
   "nbconvert_exporter": "python",
   "pygments_lexer": "ipython3",
   "version": "3.9.16"
  }
 },
 "nbformat": 4,
 "nbformat_minor": 4
}
