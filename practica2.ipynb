{
 "cells": [
  {
   "cell_type": "code",
   "execution_count": 89,
   "metadata": {
    "collapsed": true,
    "ExecuteTime": {
     "end_time": "2023-09-13T04:18:25.852584600Z",
     "start_time": "2023-09-13T04:18:23.762408600Z"
    }
   },
   "outputs": [],
   "source": [
    "import numpy as np\n",
    "import matplotlib.pyplot as plt\n"
   ]
  },
  {
   "cell_type": "code",
   "execution_count": 4,
   "outputs": [
    {
     "data": {
      "text/plain": "0.0"
     },
     "execution_count": 4,
     "metadata": {},
     "output_type": "execute_result"
    }
   ],
   "source": [
    "#Ejercicio 6\n",
    "#Resultado esperado? Coincide? a qu[e se debe?\n",
    "#a  p=1e34 , q=1 , calcular p+q-p\n",
    "p=1e34\n",
    "q=1\n",
    "p+q-p\n",
    "#Deberia ser 1 pero no coincide a que q es muy grande y el 1 no entra en la mantisa.\n"
   ],
   "metadata": {
    "collapsed": false,
    "ExecuteTime": {
     "end_time": "2023-09-07T02:08:45.689621300Z",
     "start_time": "2023-09-07T02:08:45.673615700Z"
    }
   }
  },
  {
   "cell_type": "code",
   "execution_count": 13,
   "outputs": [
    {
     "name": "stdout",
     "output_type": "stream",
     "text": [
      "100.0 100.0\n"
     ]
    }
   ],
   "source": [
    "#b\n",
    "p=100\n",
    "q=1e-15\n",
    "aux=p+2*q\n",
    "aux2=p+3*q\n",
    "print(aux, aux2)"
   ],
   "metadata": {
    "collapsed": false,
    "ExecuteTime": {
     "end_time": "2023-09-07T02:12:10.553748900Z",
     "start_time": "2023-09-07T02:12:10.534746100Z"
    }
   }
  },
  {
   "cell_type": "code",
   "execution_count": 17,
   "outputs": [
    {
     "data": {
      "text/plain": "0.1"
     },
     "execution_count": 17,
     "metadata": {},
     "output_type": "execute_result"
    }
   ],
   "source": [
    "#c\n",
    "0.1+0.3==0.3\n",
    "0.1"
   ],
   "metadata": {
    "collapsed": false,
    "ExecuteTime": {
     "end_time": "2023-09-07T02:12:58.742380500Z",
     "start_time": "2023-09-07T02:12:58.732422200Z"
    }
   }
  },
  {
   "cell_type": "code",
   "execution_count": 18,
   "outputs": [
    {
     "data": {
      "text/plain": "True"
     },
     "execution_count": 18,
     "metadata": {},
     "output_type": "execute_result"
    }
   ],
   "source": [
    "0.1+0.3==0.4"
   ],
   "metadata": {
    "collapsed": false,
    "ExecuteTime": {
     "end_time": "2023-09-07T02:13:07.768289100Z",
     "start_time": "2023-09-07T02:13:07.720288100Z"
    }
   }
  },
  {
   "cell_type": "code",
   "execution_count": 21,
   "outputs": [
    {
     "data": {
      "text/plain": "0.0"
     },
     "execution_count": 21,
     "metadata": {},
     "output_type": "execute_result"
    }
   ],
   "source": [
    "1e-323\n",
    "1e-324"
   ],
   "metadata": {
    "collapsed": false,
    "ExecuteTime": {
     "end_time": "2023-09-07T02:13:33.781457600Z",
     "start_time": "2023-09-07T02:13:33.763443900Z"
    }
   }
  },
  {
   "cell_type": "code",
   "execution_count": 37,
   "outputs": [
    {
     "data": {
      "text/plain": "2.220446049250313e-16"
     },
     "execution_count": 37,
     "metadata": {},
     "output_type": "execute_result"
    }
   ],
   "source": [
    "eps=np.finfo(np.float64).eps\n",
    "(1+eps/2)+eps/2\n",
    "1+(eps/2+eps/2)\n",
    "((1+eps/2)+eps/2)-1\n",
    "(1+(eps/2+eps/2))-1\n"
   ],
   "metadata": {
    "collapsed": false,
    "ExecuteTime": {
     "end_time": "2023-09-07T02:17:56.266756200Z",
     "start_time": "2023-09-07T02:17:56.212755Z"
    }
   }
  },
  {
   "cell_type": "code",
   "execution_count": 46,
   "outputs": [
    {
     "data": {
      "text/plain": "5.879542597180472e-15"
     },
     "execution_count": 46,
     "metadata": {},
     "output_type": "execute_result"
    }
   ],
   "source": [
    "i=25\n",
    "pi=np.pi\n",
    "np.sin((10^i)*pi)"
   ],
   "metadata": {
    "collapsed": false,
    "ExecuteTime": {
     "end_time": "2023-09-07T02:20:21.026780200Z",
     "start_time": "2023-09-07T02:20:20.990781700Z"
    }
   }
  },
  {
   "cell_type": "code",
   "execution_count": 59,
   "outputs": [
    {
     "data": {
      "text/plain": "-1.0"
     },
     "execution_count": 59,
     "metadata": {},
     "output_type": "execute_result"
    }
   ],
   "source": [
    "i=25\n",
    "pi=np.pi\n",
    "arg=pi/2+pi*(10^25)\n",
    "np.sin(arg)"
   ],
   "metadata": {
    "collapsed": false,
    "ExecuteTime": {
     "end_time": "2023-09-07T02:24:04.866208400Z",
     "start_time": "2023-09-07T02:24:04.850408200Z"
    }
   }
  },
  {
   "cell_type": "code",
   "execution_count": 76,
   "outputs": [
    {
     "name": "stdout",
     "output_type": "stream",
     "text": [
      "21.30048150134855\n"
     ]
    }
   ],
   "source": [
    "#Ejercicio 7\n",
    "res=0\n",
    "n=1000000000\n",
    "for i in range(1,n):\n",
    "    res=res+1/i\n",
    "print (res)\n",
    "\n"
   ],
   "metadata": {
    "collapsed": false,
    "ExecuteTime": {
     "end_time": "2023-09-07T02:29:30.532802500Z",
     "start_time": "2023-09-07T02:26:47.927251600Z"
    }
   }
  },
  {
   "cell_type": "code",
   "execution_count": 79,
   "outputs": [
    {
     "ename": "KeyboardInterrupt",
     "evalue": "",
     "output_type": "error",
     "traceback": [
      "\u001B[1;31m---------------------------------------------------------------------------\u001B[0m",
      "\u001B[1;31mKeyboardInterrupt\u001B[0m                         Traceback (most recent call last)",
      "Cell \u001B[1;32mIn[79], line 4\u001B[0m\n\u001B[0;32m      2\u001B[0m n\u001B[38;5;241m=\u001B[39m\u001B[38;5;241m1000000000\u001B[39m\n\u001B[0;32m      3\u001B[0m \u001B[38;5;28;01mfor\u001B[39;00m i \u001B[38;5;129;01min\u001B[39;00m \u001B[38;5;28mrange\u001B[39m(n,\u001B[38;5;241m0\u001B[39m,\u001B[38;5;241m-\u001B[39m\u001B[38;5;241m1\u001B[39m):\n\u001B[1;32m----> 4\u001B[0m     res\u001B[38;5;241m=\u001B[39mres\u001B[38;5;241m+\u001B[39m\u001B[38;5;241m1\u001B[39m\u001B[38;5;241m/\u001B[39mi\n\u001B[0;32m      5\u001B[0m \u001B[38;5;28mprint\u001B[39m (res)\n",
      "\u001B[1;31mKeyboardInterrupt\u001B[0m: "
     ]
    }
   ],
   "source": [
    "res=0\n",
    "n=1000000000\n",
    "for i in range(n,0,-1):\n",
    "    res=res+1/i\n",
    "print (res)"
   ],
   "metadata": {
    "collapsed": false,
    "ExecuteTime": {
     "end_time": "2023-09-13T04:10:45.779458200Z",
     "start_time": "2023-09-13T04:08:06.877997100Z"
    }
   }
  },
  {
   "cell_type": "code",
   "execution_count": 97,
   "outputs": [
    {
     "data": {
      "text/plain": "<Figure size 640x480 with 1 Axes>",
      "image/png": "[encoded data removed]"
     },
     "metadata": {},
     "output_type": "display_data"
    }
   ],
   "source": [
    "def estimaNorma2(A):\n",
    "    s=0\n",
    "    serie=[]\n",
    "    for i in range(100):\n",
    "        vec=np.random.random(len(A))\n",
    "        si=A@vec\n",
    "        normMat=np.linalg.norm(si)\n",
    "        normVec=np.linalg.norm(vec)\n",
    "        s=max(s,normMat/normVec)\n",
    "        serie.append(s)\n",
    "\n",
    "    return s, serie\n",
    "\n",
    "A=np.array([[2, -3, 5,7], [6, -1, 3,8], [-4, 1, -2,9],[1,2,3,4]])\n",
    "esti, serie = estimaNorma2(A)\n",
    "plt.plot(serie)\n",
    "plt.scatter(50, np.linalg.norm(A))\n",
    "plt.show()\n",
    "\n",
    "np.linalg.det()"
   ],
   "metadata": {
    "collapsed": false,
    "ExecuteTime": {
     "end_time": "2023-09-13T04:26:32.018814200Z",
     "start_time": "2023-09-13T04:26:31.672996800Z"
    }
   }
  },
  {
   "cell_type": "code",
   "execution_count": 131,
   "outputs": [
    {
     "name": "stdout",
     "output_type": "stream",
     "text": [
      "Error estimado:  [[1.00000556]\n",
      " [1.00000833]\n",
      " [1.00000833]]\n"
     ]
    },
    {
     "data": {
      "text/plain": "<Figure size 640x480 with 1 Axes>",
      "image/png": "[encoded data removed]"
     },
     "metadata": {},
     "output_type": "display_data"
    }
   ],
   "source": [
    "#Ejercicio 19\n",
    "A=np.array([[3,0,0],[0,5/4,3/4], [0,3/4,5/4]])\n",
    "b=np.array([[3,2,2]]).T\n",
    "x=np.array([[1,1,1]]).T\n",
    "\n",
    "print(\"Error estimado: \",np.linalg.solve(A,b+ (1/6) * 10**-4))\n",
    "\n",
    "serie=[]\n",
    "error_rel=10/9  *10 **(-4)\n",
    "for i in range(10000):\n",
    "    vec=np.random.rand(3,1)\n",
    "    error_norm=np.linalg.norm(vec).T\n",
    "    if error_norm >= 1 or error_norm == 0:\n",
    "        continue\n",
    "    vec=vec *error_rel\n",
    "    b_tilde=b+vec\n",
    "    x_tilde=np.linalg.solve(A,b_tilde)\n",
    "    serie.append(np.linalg.norm(x_tilde-x))\n",
    "\n",
    "plt.plot(serie, label=r'$||x - \\tilde x||$')\n",
    "plt.plot([10/6 * 10 ** (-4)] * len(serie), label='1e-4')\n",
    "# add legend outside plot\n",
    "plt.legend(bbox_to_anchor=(1.05, 1), loc='upper left', borderaxespad=0.)\n",
    "plt.show()"
   ],
   "metadata": {
    "collapsed": false,
    "ExecuteTime": {
     "end_time": "2023-09-14T18:49:01.821206200Z",
     "start_time": "2023-09-14T18:49:01.348136300Z"
    }
   }
  },
  {
   "cell_type": "code",
   "execution_count": 146,
   "outputs": [
    {
     "data": {
      "text/plain": "2.915715123579894e+16"
     },
     "execution_count": 146,
     "metadata": {},
     "output_type": "execute_result"
    }
   ],
   "source": [
    "A=np.array([[1,1,1],[1,0,0],[1,0,0]])\n",
    "B=np.array(([[1,0,1+eps],[2,3,4],[1-eps,0,1]]))\n",
    "np.linalg.cond(B)\n",
    "\n"
   ],
   "metadata": {
    "collapsed": false,
    "ExecuteTime": {
     "end_time": "2023-09-14T19:04:13.308261500Z",
     "start_time": "2023-09-14T19:04:13.289224400Z"
    }
   }
  }
 ],
 "metadata": {
  "kernelspec": {
   "display_name": "Python 3",
   "language": "python",
   "name": "python3"
  },
  "language_info": {
   "codemirror_mode": {
    "name": "ipython",
    "version": 2
   },
   "file_extension": ".py",
   "mimetype": "text/x-python",
   "name": "python",
   "nbconvert_exporter": "python",
   "pygments_lexer": "ipython2",
   "version": "2.7.6"
  }
 },
 "nbformat": 4,
 "nbformat_minor": 0
}
